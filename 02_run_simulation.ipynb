{
 "cells": [
  {
   "cell_type": "code",
   "execution_count": 1,
   "id": "84a76400",
   "metadata": {},
   "outputs": [
    {
     "data": {
      "text/plain": [
       "CompletedProcess(args='runSeeds.py --configuration simulation_katubedda_junction_static.sumocfg --verbose --seeds 64607,11332,49143', returncode=1)"
      ]
     },
     "execution_count": 1,
     "metadata": {},
     "output_type": "execute_result"
    }
   ],
   "source": [
    "# 5. Run multiple simulation runs by changing random seed\n",
    "import random\n",
    "import subprocess\n",
    "import pandas as pd\n",
    "seed = 12345\n",
    "random.seed(seed)\n",
    "random_numbers = [random.randint(10000, 99999) for i in range(3)]\n",
    "comma_sep_string = \",\".join(map(str, random_numbers))\n",
    "\n",
    "# Static Traffic lights\n",
    "multiple_runs_static = (\"runSeeds.py --configuration simulation_katubedda_junction_static.sumocfg \"\n",
    "                 \"--verbose \"\n",
    "                 f\"--seeds {comma_sep_string}\")\n",
    "subprocess.run(multiple_runs_static, shell=True)"
   ]
  },
  {
   "cell_type": "code",
   "execution_count": 2,
   "id": "9b7234d1",
   "metadata": {},
   "outputs": [
    {
     "name": "stdout",
     "output_type": "stream",
     "text": [
      "\n",
      "Running simulation with seed 64607\n",
      "\n",
      "Running simulation with seed 11332\n",
      "\n",
      "Running simulation with seed 49143\n"
     ]
    }
   ],
   "source": [
    "# Dynamic Traffic lights - QL\n",
    "for seed in random_numbers:\n",
    "    print(f\"\\nRunning simulation with seed {seed}\")\n",
    "    cmd = f\"python traciQL.py --seed {seed}\"\n",
    "    subprocess.run(cmd, shell=True)"
   ]
  },
  {
   "cell_type": "code",
   "execution_count": 3,
   "id": "d8ac403a",
   "metadata": {},
   "outputs": [
    {
     "name": "stdout",
     "output_type": "stream",
     "text": [
      "\n",
      "Running simulation with seed 64607\n",
      "\n",
      "Running simulation with seed 11332\n",
      "\n",
      "Running simulation with seed 49143\n"
     ]
    }
   ],
   "source": [
    "# Dynamic Traffic lights - DQL\n",
    "for seed in random_numbers:\n",
    "    print(f\"\\nRunning simulation with seed {seed}\")\n",
    "    cmd = f\"python traciDQL.py --seed {seed}\"\n",
    "    subprocess.run(cmd, shell=True)"
   ]
  },
  {
   "cell_type": "code",
   "execution_count": 4,
   "id": "08a276a6",
   "metadata": {},
   "outputs": [],
   "source": [
    "# 6. Output processing\n",
    "scenarios = [\"static_vehicle_data\",\"dynamic_QL_vehicle_data\", \"dynamic_DQL_vehicle_data\"]\n",
    "\n",
    "# converting static xml data file to csv\n",
    "for scene_folder in scenarios:\n",
    "    all_pd = pd.DataFrame()\n",
    "    for random_number in random_numbers:\n",
    "        xml_2_csv_call = f\"\"\"python \"%SUMO_HOME%\\\\tools\\\\xml\\\\xml2csv.py\" outputs\\\\{scene_folder}\\\\{random_number}.{scene_folder}.xml -s ,\" \"\"\"\n",
    "        subprocess.run(xml_2_csv_call, shell=True)\n",
    "\n",
    "        # read the output from xml2csv call to a pandas dataframe\n",
    "        temp = pd.read_csv(f\"outputs/{scene_folder}/{random_number}.{scene_folder}.csv\")\n",
    "        temp['random_seed'] = random_number\n",
    "        temp['scenario'] = scene_folder\n",
    "\n",
    "        all_pd = pd.concat([all_pd, temp], ignore_index=True)\n",
    "\n",
    "    all_pd.to_csv(f'outputs/{scene_folder}/processed_{scene_folder}.csv', index = False)"
   ]
  },
  {
   "cell_type": "code",
   "execution_count": 5,
   "id": "a18db1fa",
   "metadata": {},
   "outputs": [],
   "source": [
    "for scene_folder in scenarios:\n",
    "    all_pd = pd.DataFrame()\n",
    "    for random_number in random_numbers:\n",
    "        xml_2_csv_call = f\"\"\"python \"%SUMO_HOME%\\\\tools\\\\xml\\\\xml2csv.py\" outputs\\\\{scene_folder}\\\\{random_number}.tripinfo_{scene_folder}.xml -s ,\" \"\"\"\n",
    "        subprocess.run(xml_2_csv_call, shell=True)\n",
    "\n",
    "        # read the output from xml2csv call to a pandas dataframe\n",
    "        temp = pd.read_csv(f\"outputs/{scene_folder}/{random_number}.tripinfo_{scene_folder}.csv\")\n",
    "        temp['random_seed'] = random_number\n",
    "        temp['scenario'] = scene_folder\n",
    "\n",
    "        all_pd = pd.concat([all_pd, temp], ignore_index=True)\n",
    "\n",
    "    all_pd.to_csv(f'outputs/{scene_folder}/processed_tripinfo_{scene_folder}.csv', index = False)\n"
   ]
  }
 ],
 "metadata": {
  "kernelspec": {
   "display_name": ".venv",
   "language": "python",
   "name": "python3"
  },
  "language_info": {
   "codemirror_mode": {
    "name": "ipython",
    "version": 3
   },
   "file_extension": ".py",
   "mimetype": "text/x-python",
   "name": "python",
   "nbconvert_exporter": "python",
   "pygments_lexer": "ipython3",
   "version": "3.13.5"
  }
 },
 "nbformat": 4,
 "nbformat_minor": 5
}
